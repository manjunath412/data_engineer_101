{
 "cells": [
  {
   "cell_type": "code",
   "execution_count": null,
   "id": "7bd19e04-78f5-4746-8f89-6ccf2f8c6f12",
   "metadata": {},
   "outputs": [],
   "source": [
    "!pip install SQLite4"
   ]
  },
  {
   "cell_type": "code",
   "execution_count": 2,
   "id": "92df4877-3dda-4b2b-8dbd-ef951228019c",
   "metadata": {},
   "outputs": [],
   "source": [
    "import sqlite3\n",
    "\n",
    "db = sqlite3.connect(':memory:')  # Using an in-memory database\n",
    "cur = db.cursor()"
   ]
  },
  {
   "cell_type": "code",
   "execution_count": 3,
   "id": "055ce927-cb4f-4a3f-8088-2e2b3a063d2b",
   "metadata": {},
   "outputs": [
    {
     "data": {
      "text/plain": [
       "<sqlite3.Cursor at 0x187258c5240>"
      ]
     },
     "execution_count": 3,
     "metadata": {},
     "output_type": "execute_result"
    }
   ],
   "source": [
    "cur.execute('''CREATE TABLE IF NOT EXISTS Customer (\n",
    "                id integer PRIMARY KEY,\n",
    "                firstname varchar(255),\n",
    "                lastname varchar(255) )''')\n",
    "cur.execute('''CREATE TABLE IF NOT EXISTS Item (\n",
    "                id integer PRIMARY KEY,\n",
    "                title varchar(255),\n",
    "                price decimal )''')\n",
    "cur.execute('''CREATE TABLE IF NOT EXISTS BoughtItem (\n",
    "                ordernumber integer PRIMARY KEY,\n",
    "                customerid integer,\n",
    "                itemid integer,\n",
    "                price decimal,\n",
    "                CONSTRAINT customerid\n",
    "                    FOREIGN KEY (customerid) REFERENCES Customer(id),\n",
    "                CONSTRAINT itemid\n",
    "                    FOREIGN KEY (itemid) REFERENCES Item(id) )''')"
   ]
  },
  {
   "cell_type": "code",
   "execution_count": 4,
   "id": "b1b1b0a2-5910-4f68-804c-af2906b87b29",
   "metadata": {},
   "outputs": [
    {
     "data": {
      "text/plain": [
       "<sqlite3.Cursor at 0x187258c5240>"
      ]
     },
     "execution_count": 4,
     "metadata": {},
     "output_type": "execute_result"
    }
   ],
   "source": [
    "cur.execute('''INSERT INTO Customer(firstname, lastname)\n",
    "               VALUES ('Bob', 'Adams'),\n",
    "                      ('Amy', 'Smith'),\n",
    "                      ('Rob', 'Bennet');''')\n",
    "cur.execute('''INSERT INTO Item(title, price)\n",
    "               VALUES ('USB', 10.2),\n",
    "                      ('Mouse', 12.23),\n",
    "                      ('Monitor', 199.99);''')\n",
    "cur.execute('''INSERT INTO BoughtItem(customerid, itemid, price)\n",
    "               VALUES (1, 1, 10.2),\n",
    "                      (1, 2, 12.23),\n",
    "                      (1, 3, 199.99),\n",
    "                      (2, 3, 180.00),\n",
    "                      (3, 2, 11.23);''') # Discounted price"
   ]
  },
  {
   "cell_type": "code",
   "execution_count": 5,
   "id": "40b0c14c-c89a-4cce-97fd-2bb4fc93011a",
   "metadata": {},
   "outputs": [
    {
     "name": "stdout",
     "output_type": "stream",
     "text": [
      "[(1, 10.2), (2, 11.73), (3, 189.995)]\n"
     ]
    }
   ],
   "source": [
    "cur.execute('''SELECT itemid, AVG(price) FROM BoughtItem GROUP BY itemid''')\n",
    "print(cur.fetchall())"
   ]
  },
  {
   "cell_type": "code",
   "execution_count": 6,
   "id": "f78a11e6-330e-4697-bb1b-e3e4e12d377d",
   "metadata": {},
   "outputs": [
    {
     "name": "stdout",
     "output_type": "stream",
     "text": [
      "[('Amy', 180), ('Bob', 222.42000000000002), ('Rob', 11.23)]\n"
     ]
    }
   ],
   "source": [
    "cur.execute('''SELECT customer.firstname, SUM(boughtitem.price) FROM BoughtItem as boughtitem\n",
    "             INNER JOIN Customer as customer on (customer.id = boughtitem.customerid)\n",
    "             GROUP BY customer.firstname''')\n",
    "\n",
    "print(cur.fetchall())"
   ]
  },
  {
   "cell_type": "code",
   "execution_count": 7,
   "id": "ad389171-a583-40e8-b500-38b85a569a92",
   "metadata": {},
   "outputs": [
    {
     "name": "stdout",
     "output_type": "stream",
     "text": [
      "[(4, 0, 0, 'SCAN boughtitem'), (6, 0, 0, 'SEARCH customer USING INTEGER PRIMARY KEY (rowid=?)'), (9, 0, 0, 'SEARCH item USING INTEGER PRIMARY KEY (rowid=?)')]\n"
     ]
    }
   ],
   "source": [
    "cur.execute('''EXPLAIN QUERY PLAN SELECT customer.firstname, item.title, \n",
    "                item.price, boughtitem.price FROM BoughtItem as boughtitem\n",
    "                INNER JOIN Customer as customer on (customer.id = boughtitem.customerid)\n",
    "                INNER JOIN Item as item on (item.id = boughtitem.itemid)''')\n",
    "\n",
    "print(cur.fetchall())"
   ]
  },
  {
   "cell_type": "code",
   "execution_count": null,
   "id": "6563e35e-673f-441d-bac0-c0f1fff1d2d7",
   "metadata": {},
   "outputs": [],
   "source": [
    "!pip install pymongo"
   ]
  },
  {
   "cell_type": "code",
   "execution_count": null,
   "id": "f28d155f-3d91-41a8-b5e5-bdb4270b3ef9",
   "metadata": {},
   "outputs": [],
   "source": [
    "import pymongo\n",
    "\n",
    "client = pymongo.MongoClient(\"mongodb://localhost:27017/\")\n",
    "\n",
    "# Note: This database is not created until it is populated by some data\n",
    "db = client[\"example_database\"]\n",
    "\n",
    "customers = db[\"customers\"]\n",
    "items = db[\"items\"]\n",
    "\n",
    "customers_data = [{ \"firstname\": \"Bob\", \"lastname\": \"Adams\" },\n",
    "                  { \"firstname\": \"Amy\", \"lastname\": \"Smith\" },\n",
    "                  { \"firstname\": \"Rob\", \"lastname\": \"Bennet\" },]\n",
    "items_data = [{ \"title\": \"USB\", \"price\": 10.2 },\n",
    "              { \"title\": \"Mouse\", \"price\": 12.23 },\n",
    "              { \"title\": \"Monitor\", \"price\": 199.99 },]\n",
    "\n",
    "customers.insert_many(customers_data)\n",
    "items.insert_many(items_data)"
   ]
  },
  {
   "cell_type": "code",
   "execution_count": null,
   "id": "bb6343c3-ec6f-4407-860b-175257957d2b",
   "metadata": {},
   "outputs": [],
   "source": [
    "# Just add \"boughtitems\" to the customer where the firstname is Bob\n",
    "bob = customers.update_many(\n",
    "        {\"firstname\": \"Bob\"},\n",
    "        {\n",
    "            \"$set\": {\n",
    "                \"boughtitems\": [\n",
    "                    {\n",
    "                        \"title\": \"USB\",\n",
    "                        \"price\": 10.2,\n",
    "                        \"currency\": \"EUR\",\n",
    "                        \"notes\": \"Customer wants it delivered via FedEx\",\n",
    "                        \"original_item_id\": 1\n",
    "                    }\n",
    "                ]\n",
    "            },\n",
    "        }\n",
    "    )"
   ]
  },
  {
   "cell_type": "code",
   "execution_count": null,
   "id": "b85896fc-93b7-4a35-9e7f-81da31f35a2c",
   "metadata": {},
   "outputs": [],
   "source": [
    "amy = customers.update_many(\n",
    "        {\"firstname\": \"Amy\"},\n",
    "        {\n",
    "            \"$set\": {\n",
    "                \"boughtitems\":[\n",
    "                    {\n",
    "                        \"title\": \"Monitor\",\n",
    "                        \"price\": 199.99,\n",
    "                        \"original_item_id\": 3,\n",
    "                        \"discounted\": False\n",
    "                    }\n",
    "                ]\n",
    "            } ,\n",
    "        }\n",
    "    )\n",
    "print(type(amy))  # pymongo.results.UpdateResult"
   ]
  },
  {
   "cell_type": "code",
   "execution_count": null,
   "id": "a89cb4a4-2a91-4acd-9d3b-7699dc16b67d",
   "metadata": {},
   "outputs": [],
   "source": [
    "customers.create_index([(\"name\", pymongo.DESCENDING)])"
   ]
  },
  {
   "cell_type": "code",
   "execution_count": null,
   "id": "5a05cc8d-706f-4a09-9a90-317f8bec271e",
   "metadata": {},
   "outputs": [],
   "source": [
    "items = customers.find().sort(\"name\", pymongo.ASCENDING)"
   ]
  },
  {
   "cell_type": "code",
   "execution_count": null,
   "id": "b84c0739-43ec-4e27-9a89-c39cc03c171d",
   "metadata": {},
   "outputs": [],
   "source": [
    "for item in items:\n",
    "    print(item.get('boughtitems'))"
   ]
  },
  {
   "cell_type": "code",
   "execution_count": null,
   "id": "c3767b0f-8f75-4574-ab0d-a416db5421eb",
   "metadata": {},
   "outputs": [],
   "source": [
    "customers.distinct(\"firstname\")"
   ]
  },
  {
   "cell_type": "code",
   "execution_count": null,
   "id": "b4366076-fc4f-4167-b4b5-d9057f9a71d0",
   "metadata": {},
   "outputs": [],
   "source": [
    "!pip install redis"
   ]
  },
  {
   "cell_type": "code",
   "execution_count": null,
   "id": "7aded2eb-f0b5-40b7-bad2-a2da009d1657",
   "metadata": {},
   "outputs": [],
   "source": [
    "import redis\n",
    "from datetime import timedelta\n",
    "\n",
    "# In a real web application, configuration is obtained from settings or utils\n",
    "r = redis.Redis()\n",
    "\n",
    "# Assume this is a getter handling a request\n",
    "def get_name(request, *args, **kwargs):\n",
    "    id = request.get('id')\n",
    "    if id in r:\n",
    "        return r.get(id)  # Assume that we have an {id: name} store\n",
    "    else:\n",
    "        # Get data from the main DB here, assume we already did it\n",
    "        name = 'Bob'\n",
    "        # Set the value in the cache database, with an expiration time\n",
    "        r.setex(id, timedelta(minutes=60), value=name)\n",
    "        return name"
   ]
  },
  {
   "cell_type": "code",
   "execution_count": null,
   "id": "999eed2d-e3e4-41c3-bf94-5d62c39601ec",
   "metadata": {},
   "outputs": [],
   "source": []
  },
  {
   "cell_type": "code",
   "execution_count": null,
   "id": "db94d3e7-b1b8-44fd-b216-c56c35d63460",
   "metadata": {},
   "outputs": [],
   "source": [
    "!pip install chromadb"
   ]
  },
  {
   "cell_type": "code",
   "execution_count": null,
   "id": "a5e75ff5-5a8a-4457-9405-e8d887c7ae45",
   "metadata": {},
   "outputs": [],
   "source": [
    "#chroma run\n",
    "import chromadb\n",
    "client = chromadb.HttpClient()\n",
    "collection = client.create_collection(\"sample_collection\")\n",
    "\n",
    "collection.add(\n",
    "    documents=[\"This is document1\", \"This is document2\"], # Chroma embeds for us, or we can have our own way of embedding usually by using AI Models, etc.\n",
    "    metadatas=[{\"source\": \"notion\"}, {\"source\": \"google-docs\"}], # filter on arbitrary metadata!\n",
    "    ids=[\"doc1\", \"doc2\"], \n",
    ")\n",
    "\n",
    "results = collection.query(\n",
    "    query_texts=[\"This is a query document\"],\n",
    "    n_results=2,\n",
    "    # where={\"metadata_field\": \"is_equal_to_this\"}, # optional filter\n",
    "    # where_document={\"$contains\":\"search_string\"}  # optional filter\n",
    ") "
   ]
  },
  {
   "cell_type": "code",
   "execution_count": null,
   "id": "f2057721-3a21-4c90-a3db-f8c23dce3089",
   "metadata": {},
   "outputs": [],
   "source": []
  }
 ],
 "metadata": {
  "kernelspec": {
   "display_name": "Python 3 (ipykernel)",
   "language": "python",
   "name": "python3"
  },
  "language_info": {
   "codemirror_mode": {
    "name": "ipython",
    "version": 3
   },
   "file_extension": ".py",
   "mimetype": "text/x-python",
   "name": "python",
   "nbconvert_exporter": "python",
   "pygments_lexer": "ipython3",
   "version": "3.11.8"
  }
 },
 "nbformat": 4,
 "nbformat_minor": 5
}
