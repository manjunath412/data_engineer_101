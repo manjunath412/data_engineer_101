{
 "cells": [
  {
   "cell_type": "code",
   "execution_count": null,
   "id": "e46f1778-d329-4944-840c-72f75e62d4c8",
   "metadata": {},
   "outputs": [],
   "source": [
    "import pandas as pd \n",
    "import requests\n",
    "import numpy as np"
   ]
  },
  {
   "cell_type": "code",
   "execution_count": null,
   "id": "0ca84709",
   "metadata": {},
   "outputs": [],
   "source": [
    "# Creating a Pandas Series from a list of revenue numbers\n",
    "revenues = pd.Series([5555, 7000, 1980])\n",
    "revenues  # Displaying the Series"
   ]
  },
  {
   "cell_type": "code",
   "execution_count": null,
   "id": "ae9c7e7e",
   "metadata": {},
   "outputs": [],
   "source": [
    "# Accessing the values of the Series\n",
    "revenues.values"
   ]
  },
  {
   "cell_type": "code",
   "execution_count": null,
   "id": "ef5a5fd7",
   "metadata": {},
   "outputs": [],
   "source": [
    "# Accessing the index of the Series\n",
    "revenues.index"
   ]
  },
  {
   "cell_type": "code",
   "execution_count": null,
   "id": "fcf7b714",
   "metadata": {},
   "outputs": [],
   "source": [
    "# Creating a Series with explicit index (cities)\n",
    "city_revenues = pd.Series([4200, 8000, 6500], index=['Amsterdam', 'Toronto', 'Tokyo'])\n",
    "city_revenues  # Displaying the Series with city names as indexes"
   ]
  },
  {
   "cell_type": "code",
   "execution_count": null,
   "id": "8a8f9f78",
   "metadata": {},
   "outputs": [],
   "source": [
    "# Accessing a single value by index label\n",
    "city_revenues['Toronto']"
   ]
  },
  {
   "cell_type": "code",
   "execution_count": null,
   "id": "8d9bc82b",
   "metadata": {},
   "outputs": [],
   "source": [
    "# Creating a Series from a dictionary, automatically using the keys as the index\n",
    "city_employee_count_data = {'Amsterdam': 5, 'Tokyo': 8}\n",
    "city_employee_count = pd.Series(city_employee_count_data)\n",
    "city_employee_count  # Displaying the Series"
   ]
  },
  {
   "cell_type": "code",
   "execution_count": null,
   "id": "d1af96b2",
   "metadata": {},
   "outputs": [],
   "source": [
    "# Accessing the index keys of the Series\n",
    "city_employee_count.keys()"
   ]
  },
  {
   "cell_type": "code",
   "execution_count": null,
   "id": "9ed1f0be",
   "metadata": {},
   "outputs": [],
   "source": [
    "# Checking if an index label is in the Series\n",
    "'Tokyo' in city_employee_count"
   ]
  },
  {
   "cell_type": "code",
   "execution_count": null,
   "id": "b1ad87ff",
   "metadata": {},
   "outputs": [],
   "source": [
    "# Creating a DataFrame from a dictionary of Series\n",
    "city_data = pd.DataFrame({\n",
    "    'revenue': city_revenues,\n",
    "    'employee_count': city_employee_count\n",
    "})\n",
    "city_data  # Displaying the DataFrame"
   ]
  },
  {
   "cell_type": "code",
   "execution_count": null,
   "id": "1cc2487a",
   "metadata": {},
   "outputs": [],
   "source": [
    "# Accessing the axes (index labels and column names) of the DataFrame\n",
    "city_data.axes"
   ]
  },
  {
   "cell_type": "code",
   "execution_count": null,
   "id": "e3cc2a3f",
   "metadata": {},
   "outputs": [],
   "source": [
    "# Accessing a value by integer location\n",
    "city_revenues[1]"
   ]
  },
  {
   "cell_type": "code",
   "execution_count": null,
   "id": "705da986",
   "metadata": {},
   "outputs": [],
   "source": [
    "# Accessing a value by index label\n",
    "city_revenues['Toronto']"
   ]
  },
  {
   "cell_type": "code",
   "execution_count": null,
   "id": "71019e39",
   "metadata": {},
   "outputs": [],
   "source": [
    "# Accessing the last value by negative indexing (not supported with default index)\n",
    "city_revenues[-1]"
   ]
  },
  {
   "cell_type": "code",
   "execution_count": null,
   "id": "60b10b5f",
   "metadata": {},
   "outputs": [],
   "source": [
    "# Slicing the Series from a specified label to the end\n",
    "city_revenues['Toronto':]"
   ]
  },
  {
   "cell_type": "code",
   "execution_count": null,
   "id": "e2262001",
   "metadata": {},
   "outputs": [],
   "source": [
    "# Creating a Series with a non-default index\n",
    "colors = pd.Series(['red', 'purple', 'blue', 'green', 'yellow'], index=[1, 2, 3, 5, 8])\n",
    "colors  # Displaying the Series"
   ]
  },
  {
   "cell_type": "code",
   "execution_count": null,
   "id": "7ebfcc05",
   "metadata": {},
   "outputs": [],
   "source": [
    "# Accessing a value by the non-default integer index\n",
    "colors[1]"
   ]
  },
  {
   "cell_type": "code",
   "execution_count": null,
   "id": "017664ba",
   "metadata": {},
   "outputs": [],
   "source": [
    "# Accessing a value using the .loc indexer\n",
    "colors.loc[1]"
   ]
  },
  {
   "cell_type": "code",
   "execution_count": null,
   "id": "4f04a7fb",
   "metadata": {},
   "outputs": [],
   "source": [
    "# Accessing a value using the .iloc indexer for position-based indexing\n",
    "colors.iloc[1]"
   ]
  },
  {
   "cell_type": "code",
   "execution_count": null,
   "id": "aa8c322e",
   "metadata": {},
   "outputs": [],
   "source": [
    "# Slicing the Series using .iloc for positions\n",
    "colors.iloc[1:3]"
   ]
  },
  {
   "cell_type": "code",
   "execution_count": null,
   "id": "3a7b7ae7",
   "metadata": {},
   "outputs": [],
   "source": [
    "# Slicing the Series using .loc for labels\n",
    "colors.loc[3:8]"
   ]
  },
  {
   "cell_type": "code",
   "execution_count": null,
   "id": "86032b29",
   "metadata": {},
   "outputs": [],
   "source": [
    "# Accessing the second to last value using .iloc (negative indexing)\n",
    "colors.iloc[-2]"
   ]
  },
  {
   "cell_type": "code",
   "execution_count": null,
   "id": "a6a8380c",
   "metadata": {},
   "outputs": [],
   "source": [
    "# Accessing a DataFrame column as a Series\n",
    "city_data.revenue"
   ]
  },
  {
   "cell_type": "code",
   "execution_count": null,
   "id": "db4e2bd0",
   "metadata": {},
   "outputs": [],
   "source": [
    "# Accessing a row by label\n",
    "city_data.loc['Amsterdam']"
   ]
  },
  {
   "cell_type": "code",
   "execution_count": null,
   "id": "eaa58fc4",
   "metadata": {},
   "outputs": [],
   "source": [
    "# Accessing a row by integer location\n",
    "city_data.iloc[1]"
   ]
  },
  {
   "cell_type": "code",
   "execution_count": null,
   "id": "471ccffe",
   "metadata": {},
   "outputs": [],
   "source": [
    "# Slicing rows by label\n",
    "city_data.loc['Tokyo': 'Toronto']"
   ]
  },
  {
   "cell_type": "code",
   "execution_count": null,
   "id": "6d24bbf3",
   "metadata": {},
   "outputs": [],
   "source": [
    "# Accessing a specific column for a range of rows by labels\n",
    "city_data.loc['Amsterdam': 'Tokyo', 'revenue']"
   ]
  },
  {
   "cell_type": "code",
   "execution_count": null,
   "id": "d1cebac7",
   "metadata": {},
   "outputs": [],
   "source": [
    "# Displaying the city_revenues Series\n",
    "city_revenues"
   ]
  },
  {
   "cell_type": "code",
   "execution_count": null,
   "id": "d373cd99",
   "metadata": {},
   "outputs": [],
   "source": [
    "# Calculating the sum of the city_revenues Series\n",
    "city_revenues.sum()"
   ]
  },
  {
   "cell_type": "code",
   "execution_count": null,
   "id": "e7766bd9",
   "metadata": {},
   "outputs": [],
   "source": [
    "# Finding the maximum value in the city_revenues Series\n",
    "city_revenues.max()"
   ]
  },
  {
   "cell_type": "code",
   "execution_count": null,
   "id": "2ca4f2ad",
   "metadata": {},
   "outputs": [],
   "source": [
    "# Finding the minimum value in the city_revenues Series\n",
    "city_revenues.min()"
   ]
  },
  {
   "cell_type": "code",
   "execution_count": null,
   "id": "dd534545",
   "metadata": {},
   "outputs": [],
   "source": [
    "# Calculating the mean of the city_revenues Series\n",
    "city_revenues.mean()"
   ]
  },
  {
   "cell_type": "code",
   "execution_count": null,
   "id": "2bccaa4b",
   "metadata": {},
   "outputs": [],
   "source": [
    "# Displaying the city_data DataFrame\n",
    "city_data"
   ]
  },
  {
   "cell_type": "code",
   "execution_count": null,
   "id": "a6d866ad",
   "metadata": {},
   "outputs": [],
   "source": [
    "# Creating another DataFrame with further city data\n",
    "further_city_data = pd.DataFrame({\n",
    "    'revenue': [7000, 3400],\n",
    "    'employee_count': [2, 2]\n",
    "}, index=['New York', 'Barcelona'])\n",
    "all_city_data = pd.concat([city_data, further_city_data], sort=False)  # Concatenating DataFrames vertically\n",
    "all_city_data  # Displaying the concatenated DataFrame"
   ]
  },
  {
   "cell_type": "code",
   "execution_count": null,
   "id": "2055c54f",
   "metadata": {},
   "outputs": [],
   "source": [
    "# Creating a DataFrame with city countries\n",
    "city_countries = pd.DataFrame({\n",
    "    'country': ['Holland', 'Japan', 'Holland', 'Canada', 'Spain'],\n",
    "    'capital': [1, 1, 0, 0, 0]\n",
    "}, index=['Amsterdam', 'Tokyo', 'Rotterdam', 'Toronto', 'Barcelona'])"
   ]
  },
  {
   "cell_type": "code",
   "execution_count": null,
   "id": "563437fa",
   "metadata": {},
   "outputs": [],
   "source": [
    "# Concatenating city data with country data horizontally, joining on common indexes\n",
    "cities = pd.concat([all_city_data, city_countries], axis=1, sort=False, join='inner')\n",
    "cities  # Displaying the concatenated DataFrame"
   ]
  },
  {
   "cell_type": "code",
   "execution_count": null,
   "id": "7fc2e4d7",
   "metadata": {},
   "outputs": [],
   "source": [
    "# Creating a DataFrame with country data\n",
    "countries = pd.DataFrame({\n",
    "    'population_millions': [17, 127, 37],\n",
    "    'continent': ['Europe', 'Asia', 'North America']\n",
    "}, index=['Holland', 'Japan', 'Canada'])"
   ]
  },
  {
   "cell_type": "code",
   "execution_count": null,
   "id": "be962497",
   "metadata": {},
   "outputs": [],
   "source": [
    "# Merging city data with country data using a left join on 'country', keeping all cities\n",
    "pd.merge(cities, countries, left_on='country', right_index=True)"
   ]
  },
  {
   "cell_type": "code",
   "execution_count": null,
   "id": "d206344e",
   "metadata": {},
   "outputs": [],
   "source": [
    "# The same merge as above, explicitly specifying the join type as 'left'\n",
    "pd.merge(cities, countries, left_on='country', right_index=True, how='left')"
   ]
  },
  {
   "cell_type": "code",
   "execution_count": null,
   "id": "49bb8264",
   "metadata": {},
   "outputs": [],
   "source": [
    "download_url = 'https://raw.githubusercontent.com/fivethirtyeight/data/master/nba-elo/nbaallelo.csv'\n",
    "\n",
    "response = requests.get(download_url)\n",
    "\n",
    "with open('nba_all_elo.csv', 'wb') as f:\n",
    "    f.write(response.content)\n",
    "    \n",
    "nba = pd.read_csv('nba_all_elo.csv')\n",
    "nba.head()"
   ]
  },
  {
   "cell_type": "code",
   "execution_count": null,
   "id": "517d46c9-ee70-40e6-b73e-f54bcf7637da",
   "metadata": {},
   "outputs": [],
   "source": [
    "nba.tail()  # Displays the last 5 rows of the nba DataFrame"
   ]
  },
  {
   "cell_type": "code",
   "execution_count": null,
   "id": "45d90a0f-45ab-4840-8d71-7c7062d1101e",
   "metadata": {},
   "outputs": [],
   "source": [
    "nba.tail(10)  # Displays the last 10 rows of the nba DataFrame"
   ]
  },
  {
   "cell_type": "code",
   "execution_count": null,
   "id": "8c190ce6",
   "metadata": {},
   "outputs": [],
   "source": [
    "nba.info()  # Provides a summary of the nba DataFrame, including the number of non-null entries for each column"
   ]
  },
  {
   "cell_type": "code",
   "execution_count": null,
   "id": "61031633",
   "metadata": {},
   "outputs": [],
   "source": [
    "nba.describe()  # Generates descriptive statistics that summarize the central tendency, dispersion, and shape of the dataset’s distribution, excluding NaN values"
   ]
  },
  {
   "cell_type": "code",
   "execution_count": null,
   "id": "c829609e",
   "metadata": {},
   "outputs": [],
   "source": [
    "nba['team_id'].value_counts()  # Returns counts of unique values for 'team_id', showing the distribution of teams"
   ]
  },
  {
   "cell_type": "code",
   "execution_count": null,
   "id": "5fcfb339",
   "metadata": {},
   "outputs": [],
   "source": [
    "nba['fran_id'].value_counts()  # Returns counts of unique values for 'fran_id', showing the distribution of franchise ids"
   ]
  },
  {
   "cell_type": "code",
   "execution_count": null,
   "id": "0123d463",
   "metadata": {},
   "outputs": [],
   "source": [
    "nba['fran_id'] == 'Lakers'  # Creates a boolean Series indicating rows where 'fran_id' is 'Lakers'"
   ]
  },
  {
   "cell_type": "code",
   "execution_count": null,
   "id": "3d6dfa82",
   "metadata": {},
   "outputs": [],
   "source": [
    "nba.loc[nba['fran_id'] == 'Lakers']  # Selects rows where 'fran_id' is 'Lakers'"
   ]
  },
  {
   "cell_type": "code",
   "execution_count": null,
   "id": "7020f988",
   "metadata": {},
   "outputs": [],
   "source": [
    "nba.loc[nba['fran_id'] == 'Lakers', 'team_id']  # Selects 'team_id' for rows where 'fran_id' is 'Lakers'"
   ]
  },
  {
   "cell_type": "code",
   "execution_count": null,
   "id": "41809e82",
   "metadata": {},
   "outputs": [],
   "source": [
    "nba.loc[nba['fran_id'] == 'Lakers', 'team_id'].value_counts()  # Counts of 'team_id' for Lakers, showing distribution of team IDs for Lakers"
   ]
  },
  {
   "cell_type": "code",
   "execution_count": null,
   "id": "8e70cb27",
   "metadata": {},
   "outputs": [],
   "source": [
    "nba.loc[nba['team_id'] == 'MNL', 'date_game']  # Selects 'date_game' for rows where 'team_id' is 'MNL'"
   ]
  },
  {
   "cell_type": "code",
   "execution_count": null,
   "id": "2d628ca4",
   "metadata": {},
   "outputs": [],
   "source": [
    "nba.loc[nba['team_id'] == 'MNL', 'date_game'].max()  # Finds the latest 'date_game' for 'MNL' team"
   ]
  },
  {
   "cell_type": "code",
   "execution_count": null,
   "id": "cc113895",
   "metadata": {},
   "outputs": [],
   "source": [
    "nba['date_played'] = pd.to_datetime(nba['date_game'])  # Converts 'date_game' column to datetime and stores in 'date_played'"
   ]
  },
  {
   "cell_type": "code",
   "execution_count": null,
   "id": "7ba443d9",
   "metadata": {},
   "outputs": [],
   "source": [
    "nba.loc[nba['team_id'] == 'MNL', 'date_played'].max()  # Finds the latest 'date_played' for 'MNL' team"
   ]
  },
  {
   "cell_type": "code",
   "execution_count": null,
   "id": "46417512",
   "metadata": {},
   "outputs": [],
   "source": [
    "total_bos_points = nba.loc[nba['team_id'] == 'BOS', 'pts'].sum()  # Sums up all points scored by 'BOS' team"
   ]
  },
  {
   "cell_type": "code",
   "execution_count": null,
   "id": "61cbbceb",
   "metadata": {},
   "outputs": [],
   "source": [
    "years_bos_played = len(nba.loc[nba['team_id'] == 'BOS', 'date_played'].apply(lambda v: v.year).unique())  # Counts unique years 'BOS' team played"
   ]
  },
  {
   "cell_type": "code",
   "execution_count": null,
   "id": "30d9af1b",
   "metadata": {},
   "outputs": [],
   "source": [
    "total_bos_points / years_bos_played  # Calculates average points per year for 'BOS' team"
   ]
  },
  {
   "cell_type": "code",
   "execution_count": null,
   "id": "878d3d2f",
   "metadata": {},
   "outputs": [],
   "source": [
    "'points' in nba.axes[1]  # Checks if 'points' is a column in the DataFrame"
   ]
  },
  {
   "cell_type": "code",
   "execution_count": null,
   "id": "58292b30",
   "metadata": {},
   "outputs": [],
   "source": [
    "'pts' in nba.axes[1]  # Checks if 'pts' is a column in the DataFrame"
   ]
  },
  {
   "cell_type": "code",
   "execution_count": null,
   "id": "3d75bbd8",
   "metadata": {},
   "outputs": [],
   "source": [
    "'pts' in nba.keys()  # Another way to check if 'pts' is a column in the DataFrame"
   ]
  },
  {
   "cell_type": "code",
   "execution_count": null,
   "id": "b7c31a84",
   "metadata": {},
   "outputs": [],
   "source": [
    "nba.iloc[-2]  # Selects the second to last row of the DataFrame"
   ]
  },
  {
   "cell_type": "code",
   "execution_count": null,
   "id": "f5be4a7c",
   "metadata": {},
   "outputs": [],
   "source": [
    "nba.loc[5555:5559, ['fran_id', 'opp_fran', 'pts', 'opp_pts']]  # Selects rows 5555 to 5559 and specific columns"
   ]
  },
  {
   "cell_type": "code",
   "execution_count": null,
   "id": "04948133",
   "metadata": {},
   "outputs": [],
   "source": [
    "current_decade = nba[nba['year_id'] > 2010]  # Filters rows where 'year_id' is greater than 2010"
   ]
  },
  {
   "cell_type": "code",
   "execution_count": null,
   "id": "a9f79d15",
   "metadata": {},
   "outputs": [],
   "source": [
    "current_decade.shape  # Shows the shape (number of rows and columns) of the filtered DataFrame"
   ]
  },
  {
   "cell_type": "code",
   "execution_count": null,
   "id": "69c5cfb5",
   "metadata": {},
   "outputs": [],
   "source": [
    "nba['year_id'] > 2010  # Creates a boolean Series for years greater than 2010"
   ]
  },
  {
   "cell_type": "code",
   "execution_count": null,
   "id": "06620138",
   "metadata": {},
   "outputs": [],
   "source": [
    "nba[nba['year_id'] > 2010]  # Filters rows for games played after 2010"
   ]
  },
  {
   "cell_type": "code",
   "execution_count": null,
   "id": "9760a09d",
   "metadata": {},
   "outputs": [],
   "source": [
    "nba['notes'].notnull()  # Creates a boolean Series for rows where 'notes' column is not null"
   ]
  },
  {
   "cell_type": "code",
   "execution_count": null,
   "id": "6bd59590",
   "metadata": {},
   "outputs": [],
   "source": [
    "games_with_notes = nba[nba['notes'].notnull()]  # Filters rows where 'notes' column is not null\n",
    "games_with_notes  # Displays the filtered DataFrame"
   ]
  },
  {
   "cell_type": "code",
   "execution_count": null,
   "id": "ec6445a6",
   "metadata": {},
   "outputs": [],
   "source": [
    "ers_teams = nba[nba['fran_id'].str.endswith('ers')]  # Filters teams whose franchise id ends with 'ers'\n",
    "ers_teams  # Displays the filtered DataFrame"
   ]
  },
  {
   "cell_type": "code",
   "execution_count": null,
   "id": "1c2ed4ac",
   "metadata": {},
   "outputs": [],
   "source": [
    "nba[(nba['team_id'] == 'BLB') & (nba['pts'] > 100) & (nba['opp_pts'] > 100)]  # Filters games where 'BLB' scored and conceded more than 100 points"
   ]
  },
  {
   "cell_type": "code",
   "execution_count": null,
   "id": "afc81054",
   "metadata": {},
   "outputs": [],
   "source": [
    "nba['pts'].sum()  # Sums up all points scored in the dataset"
   ]
  },
  {
   "cell_type": "code",
   "execution_count": null,
   "id": "2440a0a2",
   "metadata": {},
   "outputs": [],
   "source": [
    "nba['fran_id'].unique()  # Returns unique franchise ids in the dataset"
   ]
  },
  {
   "cell_type": "code",
   "execution_count": null,
   "id": "cc81f9d8",
   "metadata": {},
   "outputs": [],
   "source": [
    "group_fran = nba.groupby('fran_id', sort=False)  # Groups data by 'fran_id', without sorting\n",
    "group_fran  # Displays the GroupBy object"
   ]
  },
  {
   "cell_type": "code",
   "execution_count": null,
   "id": "3b6adf69",
   "metadata": {},
   "outputs": [],
   "source": [
    "group_fran['pts'].sum()  # Sums up points for each franchise"
   ]
  },
  {
   "cell_type": "code",
   "execution_count": null,
   "id": "2bcf0a48",
   "metadata": {},
   "outputs": [],
   "source": [
    "year_results = nba[nba['fran_id'] == 'Bulls'].groupby(['year_id', 'game_result'])  # Groups 'Bulls' games by year and result"
   ]
  },
  {
   "cell_type": "code",
   "execution_count": null,
   "id": "7391d918",
   "metadata": {},
   "outputs": [],
   "source": [
    "year_results['game_id'].count()  # Counts games in each group"
   ]
  },
  {
   "cell_type": "code",
   "execution_count": null,
   "id": "82a71591",
   "metadata": {},
   "outputs": [],
   "source": [
    "nba[\n",
    "    (nba['fran_id'] == 'Warriors') &\n",
    "    (nba['year_id'] == 2015)\n",
    "].groupby(['is_playoffs', 'game_result'])['game_id'].count()  \n",
    "# Groups 'Warriors' 2015 games by playoffs status and result, counts games"
   ]
  },
  {
   "cell_type": "code",
   "execution_count": null,
   "id": "60ce4734",
   "metadata": {},
   "outputs": [],
   "source": [
    "nba_copy = nba.copy()  # Creates a copy of the nba DataFrame"
   ]
  },
  {
   "cell_type": "code",
   "execution_count": null,
   "id": "68a0392f",
   "metadata": {},
   "outputs": [],
   "source": [
    "nba_copy['difference'] = nba_copy['pts'] - nba_copy['opp_pts']  # Calculates point difference for each game and stores in 'difference'"
   ]
  },
  {
   "cell_type": "code",
   "execution_count": null,
   "id": "8e8e944b",
   "metadata": {},
   "outputs": [],
   "source": [
    "nba_copy.head()  # Displays the first 5 rows of the copied DataFrame"
   ]
  },
  {
   "cell_type": "code",
   "execution_count": null,
   "id": "4d6fab3d",
   "metadata": {},
   "outputs": [],
   "source": [
    "nba_copy['difference'].max()  # Finds the maximum point difference"
   ]
  },
  {
   "cell_type": "code",
   "execution_count": null,
   "id": "e93d6c4f",
   "metadata": {},
   "outputs": [],
   "source": [
    "nba_copy.rename(\n",
    "    columns={\n",
    "        'game_result': 'result',\n",
    "        'game_location': 'location'\n",
    "    },\n",
    "    inplace=True\n",
    ")  # Renames columns 'game_result' and 'game_location' in place"
   ]
  },
  {
   "cell_type": "code",
   "execution_count": null,
   "id": "c713c313",
   "metadata": {},
   "outputs": [],
   "source": [
    "elo_columns = ['elo_i', 'elo_n', 'opp_elo_i', 'opp_elo_n']  # Defines a list of columns related to ELO ratings"
   ]
  },
  {
   "cell_type": "code",
   "execution_count": null,
   "id": "d622c244",
   "metadata": {},
   "outputs": [],
   "source": [
    "nba_copy.drop(elo_columns, axis=1)  # Returns a new DataFrame with ELO columns dropped"
   ]
  },
  {
   "cell_type": "code",
   "execution_count": null,
   "id": "5ecc176d",
   "metadata": {},
   "outputs": [],
   "source": [
    "nba_copy.info()  # Provides a summary of the nba_copy DataFrame, including the number of non-null entries for each column"
   ]
  },
  {
   "cell_type": "code",
   "execution_count": null,
   "id": "c822c509",
   "metadata": {},
   "outputs": [],
   "source": [
    "nba_copy.drop(elo_columns, axis=1, inplace=True)  # Drops the ELO columns from nba_copy in place"
   ]
  },
  {
   "cell_type": "code",
   "execution_count": null,
   "id": "e2520699",
   "metadata": {},
   "outputs": [],
   "source": [
    "nba_copy.info()  # Provides an updated summary of the nba_copy DataFrame"
   ]
  },
  {
   "cell_type": "code",
   "execution_count": null,
   "id": "4272f2b0",
   "metadata": {},
   "outputs": [],
   "source": [
    "nba['date_game']  # Displays the 'date_game' column"
   ]
  },
  {
   "cell_type": "code",
   "execution_count": null,
   "id": "5a2197ef",
   "metadata": {},
   "outputs": [],
   "source": [
    "nba['date_game'] = pd.to_datetime(nba['date_game'])  # Converts 'date_game' column to datetime"
   ]
  },
  {
   "cell_type": "code",
   "execution_count": null,
   "id": "068cb2d0",
   "metadata": {},
   "outputs": [],
   "source": [
    "nba.info()  # Provides a summary of the nba DataFrame after the conversion"
   ]
  },
  {
   "cell_type": "code",
   "execution_count": null,
   "id": "dbbc9385",
   "metadata": {},
   "outputs": [],
   "source": [
    "nba['game_location'].unique()  # Displays unique values in the 'game_location' column"
   ]
  },
  {
   "cell_type": "code",
   "execution_count": null,
   "id": "1519cb3b",
   "metadata": {},
   "outputs": [],
   "source": [
    "nba['game_location'] = pd.Categorical(nba['game_location'])  # Converts 'game_location' column to categorical type"
   ]
  },
  {
   "cell_type": "code",
   "execution_count": null,
   "id": "806bd57e",
   "metadata": {},
   "outputs": [],
   "source": [
    "nba.info()  # Provides a summary of the nba DataFrame after converting 'game_location' to categorical"
   ]
  },
  {
   "cell_type": "code",
   "execution_count": null,
   "id": "5f46a6d4",
   "metadata": {},
   "outputs": [],
   "source": [
    "nba['game_location'].dtype  # Displays the data type of 'game_location' column"
   ]
  },
  {
   "cell_type": "code",
   "execution_count": null,
   "id": "d7edc024",
   "metadata": {},
   "outputs": [],
   "source": [
    "nba['game_result'].unique()  # Displays unique values in the 'game_result' column"
   ]
  },
  {
   "cell_type": "code",
   "execution_count": null,
   "id": "09d7c540",
   "metadata": {},
   "outputs": [],
   "source": [
    "nba['game_result'] = pd.Categorical(nba['game_result'])  # Converts 'game_result' column to categorical type\n",
    "nba.info()  # Provides a summary of the nba DataFrame after converting 'game_result' to categorical"
   ]
  },
  {
   "cell_type": "code",
   "execution_count": null,
   "id": "fa43a17d",
   "metadata": {},
   "outputs": [],
   "source": [
    "clean_nba = nba.dropna()  # Creates a new DataFrame by dropping rows with any missing values"
   ]
  },
  {
   "cell_type": "code",
   "execution_count": null,
   "id": "94b341ab",
   "metadata": {},
   "outputs": [],
   "source": [
    "clean_nba.shape  # Displays the shape of the clean_nba DataFrame"
   ]
  },
  {
   "cell_type": "code",
   "execution_count": null,
   "id": "3b43a7a6",
   "metadata": {},
   "outputs": [],
   "source": [
    "clean_nba = nba.dropna(axis=1)  # Creates a new DataFrame by dropping columns with any missing values"
   ]
  },
  {
   "cell_type": "code",
   "execution_count": null,
   "id": "b3712a7a",
   "metadata": {},
   "outputs": [],
   "source": [
    "clean_nba.shape  # Displays the shape of the clean_nba DataFrame after dropping columns"
   ]
  },
  {
   "cell_type": "code",
   "execution_count": null,
   "id": "bb0530e3",
   "metadata": {},
   "outputs": [],
   "source": [
    "clean_nba.info()  # Provides a summary of the clean_nba DataFrame"
   ]
  },
  {
   "cell_type": "code",
   "execution_count": null,
   "id": "f712f0ba",
   "metadata": {},
   "outputs": [],
   "source": [
    "nba_copy = nba.copy()  # Creates a copy of the nba DataFrame"
   ]
  },
  {
   "cell_type": "code",
   "execution_count": null,
   "id": "80c984c5",
   "metadata": {},
   "outputs": [],
   "source": [
    "nba_copy['notes'].fillna(\n",
    "    value='no notes at all',\n",
    "    inplace=True\n",
    ")  # Replaces missing values in 'notes' column with 'no notes at all' in place\n",
    "nba_copy.info()  # Provides a summary of the nba_copy DataFrame after filling missing values"
   ]
  },
  {
   "cell_type": "code",
   "execution_count": null,
   "id": "ac30a159",
   "metadata": {},
   "outputs": [],
   "source": [
    "nba_copy['notes'].describe()  # Generates descriptive statistics for the 'notes' column"
   ]
  },
  {
   "cell_type": "code",
   "execution_count": null,
   "id": "356afdb6",
   "metadata": {},
   "outputs": [],
   "source": [
    "nba.describe()  # Generates descriptive statistics for numerical columns in the original nba DataFrame"
   ]
  },
  {
   "cell_type": "code",
   "execution_count": null,
   "id": "6317f8ae-b38b-4f2d-a2e2-57ca7e1fec9c",
   "metadata": {},
   "outputs": [],
   "source": [
    "nba[nba['pts'] == 0]  # Filters games where a team scored 0 points"
   ]
  },
  {
   "cell_type": "code",
   "execution_count": null,
   "id": "2faa9217",
   "metadata": {},
   "outputs": [],
   "source": [
    "nba[(nba['pts'] < nba['opp_pts']) & (nba['game_result'] != 'L')].empty  # Checks if there are any anomalies where a team scored fewer points but didn't lose"
   ]
  },
  {
   "cell_type": "code",
   "execution_count": null,
   "id": "6db2b67a",
   "metadata": {},
   "outputs": [],
   "source": [
    "nba[(nba['pts'] > nba['opp_pts']) & (nba['game_result'] != 'W')].empty  # Checks if there are any anomalies where a team scored more points but didn't win"
   ]
  },
  {
   "cell_type": "code",
   "execution_count": null,
   "id": "86c2c0b3-a014-4776-a15f-ef7cf28109cf",
   "metadata": {},
   "outputs": [],
   "source": [
    "knicks_pts_by_year = nba[nba['fran_id'] == 'Knicks'].groupby('year_id')['pts'].sum()"
   ]
  },
  {
   "cell_type": "code",
   "execution_count": null,
   "id": "a01c5df3-1633-4f5b-b447-d74ac17221e8",
   "metadata": {},
   "outputs": [],
   "source": [
    "knicks_pts_by_year"
   ]
  },
  {
   "cell_type": "code",
   "execution_count": null,
   "id": "0de15396-b5b1-4eef-926e-8074e4374e3b",
   "metadata": {},
   "outputs": [],
   "source": [
    "!pip install matplotlib"
   ]
  },
  {
   "cell_type": "code",
   "execution_count": null,
   "id": "8c3aa394-ce6f-4845-ac72-8fa70aa2ae22",
   "metadata": {},
   "outputs": [],
   "source": [
    "knicks_pts_by_year.plot()"
   ]
  },
  {
   "cell_type": "code",
   "execution_count": null,
   "id": "31332b0a-84ca-42a5-b732-168b2434791a",
   "metadata": {},
   "outputs": [],
   "source": [
    "knicks_pts_by_year.tail(10).plot(kind='bar')"
   ]
  },
  {
   "cell_type": "code",
   "execution_count": null,
   "id": "d9dc1d71-4d6b-4c81-9c6f-2e53f613a75b",
   "metadata": {},
   "outputs": [],
   "source": [
    "nba[(nba['fran_id'] == 'Knicks') & (nba['year_id'] > 2000)].plot(kind='scatter', x='pts', y='opp_pts', s=0.5)"
   ]
  },
  {
   "cell_type": "code",
   "execution_count": null,
   "id": "a7950615-6ebc-47cb-a0b8-6d7c7421290e",
   "metadata": {},
   "outputs": [],
   "source": [
    "nba[nba['pts'] == nba['opp_pts']].empty"
   ]
  },
  {
   "cell_type": "code",
   "execution_count": null,
   "id": "48b7aefb-d6df-4a72-a367-cfd1d9710fad",
   "metadata": {},
   "outputs": [],
   "source": [
    "heat_13_wl = nba[\n",
    "    (nba['fran_id'] == 'Heat') &\n",
    "    (nba['year_id'] == 2013)\n",
    "]['game_result'].value_counts()\n",
    "heat_13_wl"
   ]
  },
  {
   "cell_type": "code",
   "execution_count": null,
   "id": "e3f7d86a-ad65-4844-a1d2-a2102f738352",
   "metadata": {},
   "outputs": [],
   "source": [
    "heat_13_wl.plot(kind='pie')"
   ]
  }
 ],
 "metadata": {
  "kernelspec": {
   "display_name": "Python 3 (ipykernel)",
   "language": "python",
   "name": "python3"
  },
  "language_info": {
   "codemirror_mode": {
    "name": "ipython",
    "version": 3
   },
   "file_extension": ".py",
   "mimetype": "text/x-python",
   "name": "python",
   "nbconvert_exporter": "python",
   "pygments_lexer": "ipython3",
   "version": "3.9.18"
  }
 },
 "nbformat": 4,
 "nbformat_minor": 5
}
